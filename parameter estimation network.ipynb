{
 "cells": [
  {
   "cell_type": "code",
   "execution_count": 1,
   "metadata": {},
   "outputs": [],
   "source": [
    "import pandas as pd\n",
    "import numpy as np"
   ]
  },
  {
   "cell_type": "code",
   "execution_count": 2,
   "metadata": {},
   "outputs": [
    {
     "name": "stdout",
     "output_type": "stream",
     "text": [
      "[[0.000625   0.0015     0.00040323 0.00061224 0.00324324]\n",
      " [0.00135417 0.00183333 0.00112903 0.00122449 0.00445946]\n",
      " [0.00166667 0.00183333 0.00201613 0.00122449 0.00391892]\n",
      " [0.00197917 0.00158333 0.00241936 0.00132653 0.00364865]\n",
      " [0.001875   0.00166667 0.00266129 0.00122449 0.00256757]\n",
      " [0.00208333 0.00191667 0.00306452 0.00142857 0.0027027 ]\n",
      " [0.00239583 0.00225    0.00346774 0.00163265 0.00283784]\n",
      " [0.00208333 0.00191667 0.00314516 0.00112245 0.00121622]\n",
      " [0.00197917 0.00133333 0.00233871 0.00142857 0.00040541]\n",
      " [0.00177083 0.00225    0.00209677 0.00163265 0.00135135]\n",
      " [0.00166667 0.0025     0.00193548 0.00142857 0.00162162]\n",
      " [0.001875   0.00275    0.00274194 0.00102041 0.0022973 ]\n",
      " [0.0015625  0.00233333 0.00258064 0.00091837 0.0022973 ]\n",
      " [0.00125    0.00241667 0.00233871 0.00081633 0.0027027 ]\n",
      " [0.00083333 0.00208333 0.00241936 0.00071429 0.00310811]\n",
      " [0.00083333 0.00166667 0.00282258 0.00061224 0.00324324]]\n"
     ]
    },
    {
     "data": {
      "text/plain": [
       "(16, 5)"
      ]
     },
     "execution_count": 2,
     "metadata": {},
     "output_type": "execute_result"
    }
   ],
   "source": [
    "E=np.array([[1/4,1/4,1/4,0,1/4],[1/3,1/3,1/3,0,0],[1/4,1/4,1/4,1/4,0],[0,0,1/3,1/3,1/3],[1/3,0,0,1/3,1/3]])\n",
    "df=pd.read_csv(\"Chambana_subnet.csv\")\n",
    "A=df.values[:,0:5]\n",
    "I=df.values[:,5:10]\n",
    "R=df.values[:,10:15]\n",
    "S=df.values[:,15:20]\n",
    "print(A)\n",
    "A.shape\n"
   ]
  },
  {
   "cell_type": "code",
   "execution_count": 3,
   "metadata": {},
   "outputs": [],
   "source": [
    "def para_estimation(S,A,I,R,q,E,distr):\n",
    "    AA=A[:,distr]\n",
    "    II=I[:,distr]\n",
    "    RR=R[:,distr]\n",
    "    SS=S[:,distr]\n",
    "    m=A.shape[1]\n",
    "    n=len(AA)-1\n",
    "    b=[]\n",
    "    for i in range(n):\n",
    "        b.append(AA[i+1]-AA[i])\n",
    "    for i in range(n):\n",
    "        b.append(II[i+1]-II[i])\n",
    "    for i in range(n):\n",
    "        b.append(RR[i+1]-RR[i])\n",
    "    b=np.array(b)\n",
    "    V=np.zeros((3*n,5))\n",
    "    for i in range(n):\n",
    "        s=0\n",
    "        for j in range(m):\n",
    "            s+=E[distr][j]*(A[i][j]+I[i][j])     \n",
    "        V[i][0]=q*SS[i]*s\n",
    "        V[i][1]=-AA[i]\n",
    "        V[i][3]=-AA[i]\n",
    "        V[i+n][0]=(1-q)*SS[i]*s\n",
    "        V[i+n][1]=AA[i]\n",
    "        V[i+n][2]=-II[i]\n",
    "        V[i+2*n][2]=II[i]\n",
    "        V[i+2*n][3]=AA[i]\n",
    "        V[i+2*n][4]=-RR[i]\n",
    "    B= np.linalg.pinv(V)\n",
    "    return B.dot(b)"
   ]
  },
  {
   "cell_type": "code",
   "execution_count": 4,
   "metadata": {},
   "outputs": [
    {
     "data": {
      "text/plain": [
       "array([0.13407854, 0.09432144, 0.10862008, 0.03166134, 0.00656331])"
      ]
     },
     "execution_count": 4,
     "metadata": {},
     "output_type": "execute_result"
    }
   ],
   "source": [
    "para_estimation(S,A,I,R,0.475,E,4)"
   ]
  },
  {
   "cell_type": "code",
   "execution_count": null,
   "metadata": {},
   "outputs": [],
   "source": []
  }
 ],
 "metadata": {
  "kernelspec": {
   "display_name": "Python 3",
   "language": "python",
   "name": "python3"
  },
  "language_info": {
   "codemirror_mode": {
    "name": "ipython",
    "version": 3
   },
   "file_extension": ".py",
   "mimetype": "text/x-python",
   "name": "python",
   "nbconvert_exporter": "python",
   "pygments_lexer": "ipython3",
   "version": "3.7.3"
  }
 },
 "nbformat": 4,
 "nbformat_minor": 2
}
