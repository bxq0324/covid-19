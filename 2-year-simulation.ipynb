{
 "cells": [
  {
   "cell_type": "code",
   "execution_count": 1,
   "metadata": {},
   "outputs": [],
   "source": [
    "import pandas as pd\n",
    "import matplotlib.pyplot as plt\n",
    "import numpy as np\n",
    "from scipy.integrate import odeint\n",
    "from scipy.integrate import solve_ivp\n",
    "import random\n"
   ]
  },
  {
   "cell_type": "code",
   "execution_count": 2,
   "metadata": {},
   "outputs": [],
   "source": [
    "def SAIR(y,t,beta,q, gamma,kappa, rho,delta):\n",
    "    S, A, I, R = y\n",
    "    dS = -beta * S * (A+I) +delta*R\n",
    "    dA = q*beta * S * (A+I) - rho*A-kappa*A\n",
    "    dI = (1-q)*beta * S * (A+I) +rho*A-gamma*I\n",
    "    dR = kappa*A+gamma * I-delta*R\n",
    "    return dS, dA, dI, dR"
   ]
  },
  {
   "cell_type": "code",
   "execution_count": 3,
   "metadata": {},
   "outputs": [],
   "source": [
    "#set parameters\n",
    "beta_uv = 0.20\n",
    "beta_v=0.0001\n",
    "#proportion of vaccinated population p\n",
    "q=0.7\n",
    "gamma = 0.07\n",
    "kappa=0.08\n",
    "rho=0.15\n",
    "delta = 0.003\n",
    "\n",
    "#initial condition for proportion of S, A, I, R\n",
    "A0=0.004\n",
    "I0=0.003\n",
    "R0=0.005\n",
    "S0=1-A0-I0-R0\n",
    "\n",
    "#computing effective transmission rate with vaccinations\n",
    "def beta_eff(beta_uv, beta_v, p):\n",
    "    return beta_uv*(1-p)+beta_v*p\n"
   ]
  },
  {
   "cell_type": "code",
   "execution_count": 4,
   "metadata": {},
   "outputs": [
    {
     "name": "stdout",
     "output_type": "stream",
     "text": [
      "0.2\n"
     ]
    }
   ],
   "source": [
    "#Phase 1(45days):no control\n",
    "p=0\n",
    "y0=S0,A0,I0,R0\n",
    "t = np.linspace(0, 45, 45)\n",
    "print(beta_eff(beta_uv, beta_v, p))\n",
    "sol=odeint(SAIR, y0, t, args=(beta_eff(beta_uv, beta_v, p),q, gamma,kappa, rho,delta))\n",
    "df1=pd.DataFrame({\"S\":sol.T[0],\"A\":sol.T[1],\"I\":sol.T[2],\"R\":sol.T[3]})\n"
   ]
  },
  {
   "cell_type": "code",
   "execution_count": 5,
   "metadata": {},
   "outputs": [
    {
     "name": "stdout",
     "output_type": "stream",
     "text": [
      "0.18\n"
     ]
    }
   ],
   "source": [
    "#Phase 2(45 days):travel limitations\n",
    "p=0\n",
    "beta_uv=0.18\n",
    "S1=df1[\"S\"][44]\n",
    "A1=df1[\"A\"][44]\n",
    "I1=df1[\"I\"][44]\n",
    "R1=df1[\"R\"][44]\n",
    "y1=S1,A1,I1,R1\n",
    "t = np.linspace(0, 30, 30)\n",
    "print(beta_eff(beta_uv, beta_v, p))\n",
    "sol=odeint(SAIR, y1, t, args=(beta_eff(beta_uv, beta_v, p),q, gamma,kappa, rho,delta))\n",
    "df2=pd.DataFrame({\"S\":sol.T[0],\"A\":sol.T[1],\"I\":sol.T[2],\"R\":sol.T[3]})"
   ]
  },
  {
   "cell_type": "code",
   "execution_count": 6,
   "metadata": {},
   "outputs": [
    {
     "name": "stdout",
     "output_type": "stream",
     "text": [
      "0.07\n"
     ]
    }
   ],
   "source": [
    "#Phase 3(120 days):strict quarantine\n",
    "p=0\n",
    "beta_uv=0.07\n",
    "S2=df2[\"S\"][29]\n",
    "A2=df2[\"A\"][29]\n",
    "I2=df2[\"I\"][29]\n",
    "R2=df2[\"R\"][29]\n",
    "y2=S2,A2,I2,R2\n",
    "t = np.linspace(0, 120, 120)\n",
    "print(beta_eff(beta_uv, beta_v, p))\n",
    "sol=odeint(SAIR, y2, t, args=(beta_eff(beta_uv, beta_v, p),q, gamma,kappa, rho,delta))\n",
    "df3=pd.DataFrame({\"S\":sol.T[0],\"A\":sol.T[1],\"I\":sol.T[2],\"R\":sol.T[3]})"
   ]
  },
  {
   "cell_type": "code",
   "execution_count": 7,
   "metadata": {},
   "outputs": [
    {
     "name": "stdout",
     "output_type": "stream",
     "text": [
      "0.15\n"
     ]
    }
   ],
   "source": [
    "#Phase 4(90 days):relax lockdown\n",
    "p=0\n",
    "beta_uv=0.15\n",
    "S3=df3[\"S\"][119]\n",
    "A3=df3[\"A\"][119]\n",
    "I3=df3[\"I\"][119]\n",
    "R3=df3[\"R\"][119]\n",
    "y3=S3,A3,I3,R3\n",
    "t = np.linspace(0, 90, 90)\n",
    "print(beta_eff(beta_uv, beta_v, p))\n",
    "sol=odeint(SAIR, y3, t, args=(beta_eff(beta_uv, beta_v, p),q, gamma,kappa, rho,delta))\n",
    "df4=pd.DataFrame({\"S\":sol.T[0],\"A\":sol.T[1],\"I\":sol.T[2],\"R\":sol.T[3]})"
   ]
  },
  {
   "cell_type": "code",
   "execution_count": 8,
   "metadata": {},
   "outputs": [
    {
     "name": "stdout",
     "output_type": "stream",
     "text": [
      "0.12002\n",
      "0.09004\n",
      "0.12505\n",
      "0.07507000000000001\n"
     ]
    }
   ],
   "source": [
    "#Phase 4(120 days):population getting vaccinated(gradually)\n",
    "beta_uv=0.15\n",
    "\n",
    "#phase4.1:20% vaccinated(30 days)\n",
    "p=0.2\n",
    "S4=df4[\"S\"][89]\n",
    "A4=df4[\"A\"][89]\n",
    "I4=df4[\"I\"][89]\n",
    "R4=df4[\"R\"][89]\n",
    "y4=S4,A4,I4,R4\n",
    "t = np.linspace(0, 30, 30)\n",
    "print(beta_eff(beta_uv, beta_v, p))\n",
    "sol = odeint(SAIR, y4, t, args=(beta_eff(beta_uv, beta_v, p),q, gamma,kappa, rho,delta))\n",
    "df5=pd.DataFrame({\"S\":sol.T[0],\"A\":sol.T[1],\"I\":sol.T[2],\"R\":sol.T[3]})\n",
    "\n",
    "#phase4.2:40% vaccinated(30 days)\n",
    "p=0.4\n",
    "S5=df5[\"S\"][29]\n",
    "A5=df5[\"A\"][29]\n",
    "I5=df5[\"I\"][29]\n",
    "R5=df5[\"R\"][29]\n",
    "y5=S5,A5,I5,R5\n",
    "t = np.linspace(0, 30, 30)\n",
    "print(beta_eff(beta_uv, beta_v, p))\n",
    "sol = odeint(SAIR, y5, t, args=(beta_eff(beta_uv, beta_v, p),q, gamma,kappa, rho,delta))\n",
    "df6=pd.DataFrame({\"S\":sol.T[0],\"A\":sol.T[1],\"I\":sol.T[2],\"R\":sol.T[3]})\n",
    "\n",
    "#phase4.3:50% vaccinated(30 days), lockdown further relaxed\n",
    "p=0.5\n",
    "beta_uv=0.25\n",
    "S6=df6[\"S\"][29]\n",
    "A6=df6[\"A\"][29]\n",
    "I6=df6[\"I\"][29]\n",
    "R6=df6[\"R\"][29]\n",
    "y6=S6,A6,I6,R6\n",
    "t = np.linspace(0, 30, 30)\n",
    "print(beta_eff(beta_uv, beta_v, p))\n",
    "sol = odeint(SAIR, y6, t, args=(beta_eff(beta_uv, beta_v, p),q, gamma,kappa, rho,delta))\n",
    "df7=pd.DataFrame({\"S\":sol.T[0],\"A\":sol.T[1],\"I\":sol.T[2],\"R\":sol.T[3]})\n",
    "\n",
    "#phase4.4: 70% vaccinated(30 days)\n",
    "p=0.7\n",
    "S7=df7[\"S\"][29]\n",
    "A7=df7[\"A\"][29]\n",
    "I7=df7[\"I\"][29]\n",
    "R7=df7[\"R\"][29]\n",
    "y7=S7,A7,I7,R7\n",
    "t = np.linspace(0,30,30)\n",
    "print(beta_eff(beta_uv, beta_v, p))\n",
    "sol = odeint(SAIR, y7, t, args=(beta_eff(beta_uv, beta_v, p),q, gamma,kappa, rho,delta))\n",
    "df8=pd.DataFrame({\"S\":sol.T[0],\"A\":sol.T[1],\"I\":sol.T[2],\"R\":sol.T[3]})"
   ]
  },
  {
   "cell_type": "code",
   "execution_count": 9,
   "metadata": {},
   "outputs": [
    {
     "name": "stdout",
     "output_type": "stream",
     "text": [
      "0.10507000000000001\n"
     ]
    }
   ],
   "source": [
    "#Phase 5(210 days):new virus strains appears\n",
    "beta_uv=0.35\n",
    "S8=df8[\"S\"][29]\n",
    "A8=df8[\"A\"][29]\n",
    "I8=df8[\"I\"][29]\n",
    "R8=df8[\"R\"][29]\n",
    "y8=S8,A8,I8,R8\n",
    "t = np.linspace(0, 210, 210)\n",
    "print(beta_eff(beta_uv, beta_v, p))\n",
    "sol=odeint(SAIR, y8, t, args=(beta_eff(beta_uv, beta_v, p),q, gamma,kappa, rho,delta))\n",
    "df9=pd.DataFrame({\"S\":sol.T[0],\"A\":sol.T[1],\"I\":sol.T[2],\"R\":sol.T[3]})"
   ]
  },
  {
   "cell_type": "code",
   "execution_count": 10,
   "metadata": {},
   "outputs": [
    {
     "data": {
      "text/plain": [
       "<matplotlib.legend.Legend at 0x20aff78a710>"
      ]
     },
     "execution_count": 10,
     "metadata": {},
     "output_type": "execute_result"
    },
    {
     "data": {
      "image/png": "[encoded data removed]",
      "text/plain": [
       "<Figure size 864x288 with 1 Axes>"
      ]
     },
     "metadata": {
      "needs_background": "light"
     },
     "output_type": "display_data"
    }
   ],
   "source": [
    "frames=[df1,df2,df3,df4,df5,df6,df7,df8,df9]\n",
    "df=pd.concat(frames)\n",
    "t = np.linspace(0, 615, 615)\n",
    "fig = plt.figure(figsize=(12,4))\n",
    "plt.plot(t,df[\"A\"])\n",
    "plt.plot(t,df[\"I\"])\n",
    "plt.plot(t,df[\"R\"])\n",
    "plt.grid(\"True\")\n",
    "plt.legend([\"Asymptomatic\",\"Infected\",\"Recovered\"])"
   ]
  },
  {
   "cell_type": "code",
   "execution_count": null,
   "metadata": {},
   "outputs": [],
   "source": []
  }
 ],
 "metadata": {
  "kernelspec": {
   "display_name": "Python 3",
   "language": "python",
   "name": "python3"
  },
  "language_info": {
   "codemirror_mode": {
    "name": "ipython",
    "version": 3
   },
   "file_extension": ".py",
   "mimetype": "text/x-python",
   "name": "python",
   "nbconvert_exporter": "python",
   "pygments_lexer": "ipython3",
   "version": "3.7.3"
  }
 },
 "nbformat": 4,
 "nbformat_minor": 2
}
